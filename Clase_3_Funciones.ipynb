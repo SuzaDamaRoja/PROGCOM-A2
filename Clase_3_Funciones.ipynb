{
  "nbformat": 4,
  "nbformat_minor": 0,
  "metadata": {
    "colab": {
      "provenance": [],
      "authorship_tag": "ABX9TyO2OVZKdXDr53ECDEENOTnM",
      "include_colab_link": true
    },
    "kernelspec": {
      "name": "python3",
      "display_name": "Python 3"
    },
    "language_info": {
      "name": "python"
    }
  },
  "cells": [
    {
      "cell_type": "markdown",
      "metadata": {
        "id": "view-in-github",
        "colab_type": "text"
      },
      "source": [
        "<a href=\"https://colab.research.google.com/github/SuzaDamaRoja/PROGCOM-A2/blob/main/Clase_3_Funciones.ipynb\" target=\"_parent\"><img src=\"https://colab.research.google.com/assets/colab-badge.svg\" alt=\"Open In Colab\"/></a>"
      ]
    },
    {
      "cell_type": "markdown",
      "source": [
        "#FUNCIONES\n",
        "Copiado dinámico.\n",
        "Dio nacimiento a un nuevo paradigma de programación llamado programación modular.\n",
        "\n",
        "##Forma general de programar funciones.\n",
        "```\n",
        "def (nombre_de_funcion)(p,p2,p3...pn):\n",
        "  donde p, p2, p3...pn: son parámetros\n",
        "```\n",
        "\n"
      ],
      "metadata": {
        "id": "SEfEwZM82dgY"
      }
    },
    {
      "cell_type": "markdown",
      "source": [
        "1.   list()\n",
        "2.   len()\n",
        "3. print()\n",
        "4. append()#POO Método\n",
        "5. int()\n",
        "6. input()\n",
        "\n"
      ],
      "metadata": {
        "id": "bBRxGFgL4Emu"
      }
    },
    {
      "cell_type": "markdown",
      "source": [
        "##Tipos de funciones\n",
        "1. Sin parámetros, sin retorno\n",
        "2. Sin parámetros, con retorno\n",
        "3. Con parámetros, sin retorno\n",
        "4. Con parámetros, con retorno"
      ],
      "metadata": {
        "id": "mAX5w6zB48XN"
      }
    },
    {
      "cell_type": "markdown",
      "source": [
        "###1. Sin parámetros, sin retorno\n",
        "Se emplea como copiado dinámico"
      ],
      "metadata": {
        "id": "8HnIeZ6m5iXe"
      }
    },
    {
      "cell_type": "code",
      "execution_count": 8,
      "metadata": {
        "id": "j5ClSrbJ2LsX"
      },
      "outputs": [],
      "source": [
        "#Ejemplo: Entrada de cajero electrónico\n",
        "def cajero():# Esto significa que es sin parámetros\n",
        "  print(\"Bienvenido a DaviUNAB\")\n",
        "  print(\"Estas son las operaciones que puede realizar:\")\n",
        "  print(\"1. Retirar\\n2. Transferencia\\n3. Denunciar\\n4. Operaciones sin tarjeta\")"
      ]
    },
    {
      "cell_type": "code",
      "source": [
        "cajero()"
      ],
      "metadata": {
        "colab": {
          "base_uri": "https://localhost:8080/"
        },
        "id": "JNT7NUIE6ucl",
        "outputId": "1e3f42d3-fffa-4f12-cdb1-9176b4789278"
      },
      "execution_count": 7,
      "outputs": [
        {
          "output_type": "stream",
          "name": "stdout",
          "text": [
            "Bienvenido a DaviUNAB\n",
            "Estas son las operaciones que puede realizar:\n",
            "1. Retirar\n",
            "2. Transferencia\n",
            "3. Denunciar\n",
            "4. Operaciones sin tarjeta\n"
          ]
        }
      ]
    },
    {
      "cell_type": "markdown",
      "source": [
        "###2. Sin parámetros, con retorno"
      ],
      "metadata": {
        "id": "TE49dXU88UID"
      }
    },
    {
      "cell_type": "code",
      "source": [
        "def cajero2():# Esto significa que es sin parámetros\n",
        "  print(\"Bienvenido a DaviUNAB\")\n",
        "  print(\"Estas son las operaciones que puede realizar:\")\n",
        "  print(\"1. Retirar\\n2. Transferencia\\n3. Denunciar\\n4. Operaciones sin tarjeta\")\n",
        "  rta=input(\"Ingrese una opción \")#Variable local\n",
        "  return rta#Vuela una variable local a global"
      ],
      "metadata": {
        "id": "2QQHAbs08eA9"
      },
      "execution_count": 9,
      "outputs": []
    },
    {
      "cell_type": "code",
      "source": [
        "cajero2()"
      ],
      "metadata": {
        "colab": {
          "base_uri": "https://localhost:8080/"
        },
        "id": "HXRXshAH80jy",
        "outputId": "37f2378f-e06c-4ac3-fe4f-da24619555e0"
      },
      "execution_count": 12,
      "outputs": [
        {
          "name": "stdout",
          "output_type": "stream",
          "text": [
            "Bienvenido a DaviUNAB\n",
            "Estas son las operaciones que puede realizar:\n",
            "1. Retirar\n",
            "2. Transferencia\n",
            "3. Denunciar\n",
            "4. Operaciones sin tarjeta\n",
            "Ingrese una opción 2\n"
          ]
        }
      ]
    },
    {
      "cell_type": "code",
      "source": [
        "rta=cajero2()"
      ],
      "metadata": {
        "colab": {
          "base_uri": "https://localhost:8080/"
        },
        "id": "ddA-8bGK9JZm",
        "outputId": "091d77d7-7531-4834-dad6-cc9d2d4a7a9d"
      },
      "execution_count": 14,
      "outputs": [
        {
          "name": "stdout",
          "output_type": "stream",
          "text": [
            "Bienvenido a DaviUNAB\n",
            "Estas son las operaciones que puede realizar:\n",
            "1. Retirar\n",
            "2. Transferencia\n",
            "3. Denunciar\n",
            "4. Operaciones sin tarjeta\n",
            "Ingrese una opción 2\n"
          ]
        }
      ]
    },
    {
      "cell_type": "code",
      "source": [
        "type(rta)"
      ],
      "metadata": {
        "colab": {
          "base_uri": "https://localhost:8080/"
        },
        "id": "srwTC97A-VJM",
        "outputId": "68ebb7e4-4906-4d19-e609-8f4fa85b1f47"
      },
      "execution_count": 17,
      "outputs": [
        {
          "output_type": "execute_result",
          "data": {
            "text/plain": [
              "NoneType"
            ]
          },
          "metadata": {},
          "execution_count": 17
        }
      ]
    },
    {
      "cell_type": "markdown",
      "source": [
        "###3. Con parámetros, sin retorno"
      ],
      "metadata": {
        "id": "giMFWEm2-6ZT"
      }
    },
    {
      "cell_type": "code",
      "source": [
        "#Ejemplo: el área de un rectángulo\n",
        "def ab(u,du):\n",
        "  print(f\"El área de un rectángulo de base {u} y altura {du} es {u*du}\")"
      ],
      "metadata": {
        "id": "Z1tYy01L-9iJ"
      },
      "execution_count": 18,
      "outputs": []
    },
    {
      "cell_type": "code",
      "source": [
        "a=ab(2,3)"
      ],
      "metadata": {
        "colab": {
          "base_uri": "https://localhost:8080/"
        },
        "id": "brKuR223_bqJ",
        "outputId": "97147893-1b03-4f26-e19d-2295790a1d1a"
      },
      "execution_count": 23,
      "outputs": [
        {
          "output_type": "stream",
          "name": "stdout",
          "text": [
            "El área de un rectángulo de base 2 y altura 3 es 6\n"
          ]
        }
      ]
    },
    {
      "cell_type": "code",
      "source": [
        "print(a)"
      ],
      "metadata": {
        "colab": {
          "base_uri": "https://localhost:8080/"
        },
        "id": "j4YkXkDl_z63",
        "outputId": "25e1fe82-c614-479a-edd6-7525a3a6f519"
      },
      "execution_count": 24,
      "outputs": [
        {
          "output_type": "stream",
          "name": "stdout",
          "text": [
            "None\n"
          ]
        }
      ]
    },
    {
      "cell_type": "markdown",
      "source": [
        "###4. Con parámetro, con retorno"
      ],
      "metadata": {
        "id": "iBPFCJNb_6Qh"
      }
    },
    {
      "cell_type": "code",
      "source": [
        "#Ejemplo: el área de un rectángulo\n",
        "def area_rectangulo(u,du):\n",
        "  return f\"El área de un rectángulo de base {u} y altura {du} es {u*du}\""
      ],
      "metadata": {
        "id": "_haQt0PgAjR7"
      },
      "execution_count": 25,
      "outputs": []
    },
    {
      "cell_type": "code",
      "source": [
        "a=area_rectangulo(10,15)"
      ],
      "metadata": {
        "id": "qW_e8s5eAqR3"
      },
      "execution_count": 27,
      "outputs": []
    },
    {
      "cell_type": "code",
      "source": [
        "print(a)"
      ],
      "metadata": {
        "colab": {
          "base_uri": "https://localhost:8080/"
        },
        "id": "1ptHQgwvA1Xp",
        "outputId": "7b259132-bc7e-4e52-df7f-0a6863f8e2ce"
      },
      "execution_count": 28,
      "outputs": [
        {
          "output_type": "stream",
          "name": "stdout",
          "text": [
            "El área de un rectángulo de base 10 y altura 15 es 150\n"
          ]
        }
      ]
    },
    {
      "cell_type": "markdown",
      "source": [
        "##FUNCIONES ANÓNIMAS O LAMBDA\n",
        "1.   Siempre usan parámetros\n",
        "2.   Siempre genera retorno\n",
        "3. No tienen nombre-->anónimas\n",
        "4. **Se puede emplear n parámetros, pero sólo ejecuta una línea de código**\n",
        "###Definición de funciones LAMBDA\n",
        "```\n",
        "variable=lambda (p,p1,p2,...,pn): operación\n",
        "```\n",
        "\n",
        "\n",
        "\n"
      ],
      "metadata": {
        "id": "iNm2AdL9CfC1"
      }
    },
    {
      "cell_type": "code",
      "source": [
        "#Ejemplo: calcular el área de un triángulo\n",
        "area_triangulo=lambda a,b:a*b/2"
      ],
      "metadata": {
        "id": "BEO_L-8LDt2W"
      },
      "execution_count": 29,
      "outputs": []
    },
    {
      "cell_type": "code",
      "source": [
        "area_triangulo(3,8)"
      ],
      "metadata": {
        "colab": {
          "base_uri": "https://localhost:8080/"
        },
        "id": "plioAxMVEFJ9",
        "outputId": "5f7cd622-3310-4e59-dc28-505c5921280d"
      },
      "execution_count": 30,
      "outputs": [
        {
          "output_type": "execute_result",
          "data": {
            "text/plain": [
              "12.0"
            ]
          },
          "metadata": {},
          "execution_count": 30
        }
      ]
    },
    {
      "cell_type": "code",
      "source": [
        "x=int(input(\"Ingrese la altura de un triángulo\"))\n",
        "y=int(input(\"Ingrese la base de un triángulo\"))\n",
        "area_triangulo(x,y)"
      ],
      "metadata": {
        "colab": {
          "base_uri": "https://localhost:8080/"
        },
        "id": "oH6Rnp_UEbwO",
        "outputId": "39f2d849-4c59-4038-ad9e-4739e1c5ef61"
      },
      "execution_count": 32,
      "outputs": [
        {
          "name": "stdout",
          "output_type": "stream",
          "text": [
            "Ingrese la altura de un triángulo4\n",
            "Ingrese la base de un triángulo5\n"
          ]
        },
        {
          "output_type": "execute_result",
          "data": {
            "text/plain": [
              "10.0"
            ]
          },
          "metadata": {},
          "execution_count": 32
        }
      ]
    },
    {
      "cell_type": "code",
      "source": [
        "mayor=lambda x,y,z:f\"{x} es el mayor\" if x>y and x>z else (f\"{y} es el mayor\") if y>z else f\"{z} es el mayor\""
      ],
      "metadata": {
        "id": "0_KMRKXbKGzS"
      },
      "execution_count": 33,
      "outputs": []
    },
    {
      "cell_type": "code",
      "source": [
        "mayor(4,5,6)"
      ],
      "metadata": {
        "colab": {
          "base_uri": "https://localhost:8080/",
          "height": 36
        },
        "id": "ght01s4IK2XO",
        "outputId": "d62f7a8b-97b0-4278-bb88-58ff2a089d51"
      },
      "execution_count": 34,
      "outputs": [
        {
          "output_type": "execute_result",
          "data": {
            "text/plain": [
              "'6 es el mayor'"
            ],
            "application/vnd.google.colaboratory.intrinsic+json": {
              "type": "string"
            }
          },
          "metadata": {},
          "execution_count": 34
        }
      ]
    }
  ]
}