{
  "nbformat": 4,
  "nbformat_minor": 0,
  "metadata": {
    "colab": {
      "provenance": [],
      "authorship_tag": "ABX9TyNwvs7/Bhj1/8IxuujJh6i9",
      "include_colab_link": true
    },
    "kernelspec": {
      "name": "python3",
      "display_name": "Python 3"
    },
    "language_info": {
      "name": "python"
    }
  },
  "cells": [
    {
      "cell_type": "markdown",
      "metadata": {
        "id": "view-in-github",
        "colab_type": "text"
      },
      "source": [
        "<a href=\"https://colab.research.google.com/github/SuzaDamaRoja/PROGCOM-A2/blob/main/Baile_TikTok.ipynb\" target=\"_parent\"><img src=\"https://colab.research.google.com/assets/colab-badge.svg\" alt=\"Open In Colab\"/></a>"
      ]
    },
    {
      "cell_type": "markdown",
      "source": [
        "https://www.youtube.com/shorts/8ozIeUcM2EI"
      ],
      "metadata": {
        "id": "NWFakqUMcaJm"
      }
    },
    {
      "cell_type": "code",
      "execution_count": 5,
      "metadata": {
        "id": "2ZRnNfLPcYF8"
      },
      "outputs": [],
      "source": [
        "def mover_cadera(a,b):\n",
        "  for j in range(b):\n",
        "      for i in range(a):\n",
        "        print(\"Muevo la cadera hacia la derecha\")\n",
        "      for i in range(a):\n",
        "        print(\"Muevo la cadera hacia la izquierda\")"
      ]
    },
    {
      "cell_type": "code",
      "source": [
        "mover_cadera(2,3)\n",
        "mover_cadera(1,2)"
      ],
      "metadata": {
        "colab": {
          "base_uri": "https://localhost:8080/"
        },
        "id": "47pIE5r5dOMO",
        "outputId": "6b6881f0-cab4-461b-a18f-e77525e28103"
      },
      "execution_count": 8,
      "outputs": [
        {
          "output_type": "stream",
          "name": "stdout",
          "text": [
            "Muevo la cadera hacia la derecha\n",
            "Muevo la cadera hacia la derecha\n",
            "Muevo la cadera hacia la izquierda\n",
            "Muevo la cadera hacia la izquierda\n",
            "Muevo la cadera hacia la derecha\n",
            "Muevo la cadera hacia la derecha\n",
            "Muevo la cadera hacia la izquierda\n",
            "Muevo la cadera hacia la izquierda\n",
            "Muevo la cadera hacia la derecha\n",
            "Muevo la cadera hacia la derecha\n",
            "Muevo la cadera hacia la izquierda\n",
            "Muevo la cadera hacia la izquierda\n",
            "Muevo la cadera hacia la derecha\n",
            "Muevo la cadera hacia la izquierda\n",
            "Muevo la cadera hacia la derecha\n",
            "Muevo la cadera hacia la izquierda\n"
          ]
        }
      ]
    },
    {
      "cell_type": "code",
      "source": [
        "def pasito(a,b):\n",
        "  for i in range(a):\n",
        "    print(f\"Doy {i} pasito hacia la {b}\")"
      ],
      "metadata": {
        "id": "hj2QEl-oeQNL"
      },
      "execution_count": 9,
      "outputs": []
    },
    {
      "cell_type": "code",
      "source": [
        "pasito(7,\"derecha\")"
      ],
      "metadata": {
        "colab": {
          "base_uri": "https://localhost:8080/"
        },
        "id": "THFvKbzzebyk",
        "outputId": "39d95f70-5ea0-4158-84c1-7dfb64d250c7"
      },
      "execution_count": 10,
      "outputs": [
        {
          "output_type": "stream",
          "name": "stdout",
          "text": [
            "Doy 0 pasito hacia la derecha\n",
            "Doy 1 pasito hacia la derecha\n",
            "Doy 2 pasito hacia la derecha\n",
            "Doy 3 pasito hacia la derecha\n",
            "Doy 4 pasito hacia la derecha\n",
            "Doy 5 pasito hacia la derecha\n",
            "Doy 6 pasito hacia la derecha\n"
          ]
        }
      ]
    },
    {
      "cell_type": "code",
      "source": [],
      "metadata": {
        "id": "FfVi7OuLehKt"
      },
      "execution_count": null,
      "outputs": []
    }
  ]
}