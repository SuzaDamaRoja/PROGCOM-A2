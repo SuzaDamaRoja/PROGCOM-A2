{
  "nbformat": 4,
  "nbformat_minor": 0,
  "metadata": {
    "colab": {
      "provenance": []
    },
    "kernelspec": {
      "name": "python3",
      "display_name": "Python 3"
    },
    "language_info": {
      "name": "python"
    }
  },
  "cells": [
    {
      "cell_type": "markdown",
      "source": [
        "#Prueba diagnóstica"
      ],
      "metadata": {
        "id": "4uUeX_qkJf-Q"
      }
    },
    {
      "cell_type": "markdown",
      "source": [
        "##Estructuras de selección\n",
        "Aquí se desarrollarán ejercicios sobre estructuras de selección\n",
        "\n",
        "Por pseint\n",
        "```\n",
        "si (condición) entonces:\n",
        "  pasan cosas divertidas ⏰\n",
        "sino:\n",
        "  llórelo ☹\n",
        "```\n",
        "Por algoritmia\n",
        "1. Solicito la variable y la almaceno en a\n",
        "2. Comparo esa variable con otra llamada b\n",
        "\n"
      ],
      "metadata": {
        "id": "jL7Lskv9KrMf"
      }
    },
    {
      "cell_type": "code",
      "execution_count": 1,
      "metadata": {
        "colab": {
          "base_uri": "https://localhost:8080/"
        },
        "id": "JMkADH-LIgno",
        "outputId": "fe946f75-bf6b-47d0-c4b7-44bdf6ed9762"
      },
      "outputs": [
        {
          "name": "stdout",
          "output_type": "stream",
          "text": [
            "Ingresa tu nombreAlexandra\n"
          ]
        }
      ],
      "source": [
        "n=input(\"Ingresa tu nombre\")"
      ]
    }
  ]
}