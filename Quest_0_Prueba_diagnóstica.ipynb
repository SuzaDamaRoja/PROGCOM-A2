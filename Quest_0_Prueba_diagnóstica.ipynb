{
  "nbformat": 4,
  "nbformat_minor": 0,
  "metadata": {
    "colab": {
      "provenance": [],
      "authorship_tag": "ABX9TyOBoLsS9FRIaVssSXkiBJPe",
      "include_colab_link": true
    },
    "kernelspec": {
      "name": "python3",
      "display_name": "Python 3"
    },
    "language_info": {
      "name": "python"
    }
  },
  "cells": [
    {
      "cell_type": "markdown",
      "metadata": {
        "id": "view-in-github",
        "colab_type": "text"
      },
      "source": [
        "<a href=\"https://colab.research.google.com/github/SuzaDamaRoja/PROGCOM-A2/blob/main/Quest_0_Prueba_diagn%C3%B3stica.ipynb\" target=\"_parent\"><img src=\"https://colab.research.google.com/assets/colab-badge.svg\" alt=\"Open In Colab\"/></a>"
      ]
    },
    {
      "cell_type": "markdown",
      "source": [
        "#Prueba diagnóstica"
      ],
      "metadata": {
        "id": "4uUeX_qkJf-Q"
      }
    },
    {
      "cell_type": "markdown",
      "source": [
        "##Estructuras de selección\n",
        "Aquí se desarrollarán ejercicios sobre estructuras de selección\n",
        "\n",
        "Por pseint\n",
        "```\n",
        "si (condición) entonces:\n",
        "  pasan cosas divertidas ⏰\n",
        "sino:\n",
        "  llórelo ☹\n",
        "```\n",
        "Por algoritmia\n",
        "1. Solicito la variable y la almaceno en a\n",
        "2. Comparo esa variable con otra llamada b\n",
        "\n"
      ],
      "metadata": {
        "id": "jL7Lskv9KrMf"
      }
    },
    {
      "cell_type": "markdown",
      "source": [],
      "metadata": {
        "id": "dJ4Ikv6Xaazr"
      }
    },
    {
      "cell_type": "code",
      "execution_count": 1,
      "metadata": {
        "colab": {
          "base_uri": "https://localhost:8080/"
        },
        "id": "JMkADH-LIgno",
        "outputId": "fe946f75-bf6b-47d0-c4b7-44bdf6ed9762"
      },
      "outputs": [
        {
          "name": "stdout",
          "output_type": "stream",
          "text": [
            "Ingresa tu nombreAlexandra\n"
          ]
        }
      ],
      "source": [
        "n=input(\"Ingresa tu nombre\")"
      ]
    }
  ]
}